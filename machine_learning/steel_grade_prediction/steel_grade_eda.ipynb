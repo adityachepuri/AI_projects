{
  "nbformat": 4,
  "nbformat_minor": 0,
  "metadata": {
    "colab": {
      "name": "steel_grade_eda.ipynb",
      "provenance": [],
      "collapsed_sections": []
    },
    "kernelspec": {
      "name": "python3",
      "display_name": "Python 3"
    },
    "language_info": {
      "name": "python"
    }
  },
  "cells": [
    {
      "cell_type": "code",
      "source": [
        "import pandas as pd\n",
        "import matplotlib.pyplot as plt\n",
        "import seaborn as sn"
      ],
      "metadata": {
        "id": "zmoum134yauW"
      },
      "execution_count": null,
      "outputs": []
    },
    {
      "cell_type": "code",
      "execution_count": null,
      "metadata": {
        "id": "8lACxTpZwc-7"
      },
      "outputs": [],
      "source": [
        "steel_df=pd.read_excel('/content/drive/MyDrive/AI/steel_grade_prediction/steel_grade_additional_data_added.xlsx')"
      ]
    },
    {
      "cell_type": "code",
      "source": [
        "steel_df.head()"
      ],
      "metadata": {
        "colab": {
          "base_uri": "https://localhost:8080/",
          "height": 316
        },
        "id": "tM_-GeVXywWl",
        "outputId": "abb2349e-1a3d-487a-a712-0414a83dbc94"
      },
      "execution_count": null,
      "outputs": [
        {
          "output_type": "execute_result",
          "data": {
            "text/plain": [
              "  Steel Grade     C    Si    Mn      P      S        Cr    Mo    Ni    Cu  \\\n",
              "0       SUJ 2  0.98  0.19  0.42  0.020  0.018  1.470232  0.00  0.21  0.12   \n",
              "1       SUJ 2  1.09  0.17  0.28  0.009  0.019  1.426054  0.01  0.12  0.13   \n",
              "2       SUJ 2  0.99  0.30  0.47  0.018  0.020  1.545262  0.06  0.21  0.18   \n",
              "3       SUJ 2  1.08  0.22  0.36  0.024  0.018  1.436607  0.07  0.14  0.17   \n",
              "4       SUJ 2  1.02  0.22  0.32  0.021  0.006  1.333186  0.03  0.13  0.08   \n",
              "\n",
              "   ...  Al  Mg  Zn  Fe  Sn  Ti   B   N   V  Nb  \n",
              "0  ... NaN NaN NaN NaN NaN NaN NaN NaN NaN NaN  \n",
              "1  ... NaN NaN NaN NaN NaN NaN NaN NaN NaN NaN  \n",
              "2  ... NaN NaN NaN NaN NaN NaN NaN NaN NaN NaN  \n",
              "3  ... NaN NaN NaN NaN NaN NaN NaN NaN NaN NaN  \n",
              "4  ... NaN NaN NaN NaN NaN NaN NaN NaN NaN NaN  \n",
              "\n",
              "[5 rows x 21 columns]"
            ],
            "text/html": [
              "\n",
              "  <div id=\"df-3425b31f-19e4-40e6-81e8-fec31a965f19\">\n",
              "    <div class=\"colab-df-container\">\n",
              "      <div>\n",
              "<style scoped>\n",
              "    .dataframe tbody tr th:only-of-type {\n",
              "        vertical-align: middle;\n",
              "    }\n",
              "\n",
              "    .dataframe tbody tr th {\n",
              "        vertical-align: top;\n",
              "    }\n",
              "\n",
              "    .dataframe thead th {\n",
              "        text-align: right;\n",
              "    }\n",
              "</style>\n",
              "<table border=\"1\" class=\"dataframe\">\n",
              "  <thead>\n",
              "    <tr style=\"text-align: right;\">\n",
              "      <th></th>\n",
              "      <th>Steel Grade</th>\n",
              "      <th>C</th>\n",
              "      <th>Si</th>\n",
              "      <th>Mn</th>\n",
              "      <th>P</th>\n",
              "      <th>S</th>\n",
              "      <th>Cr</th>\n",
              "      <th>Mo</th>\n",
              "      <th>Ni</th>\n",
              "      <th>Cu</th>\n",
              "      <th>...</th>\n",
              "      <th>Al</th>\n",
              "      <th>Mg</th>\n",
              "      <th>Zn</th>\n",
              "      <th>Fe</th>\n",
              "      <th>Sn</th>\n",
              "      <th>Ti</th>\n",
              "      <th>B</th>\n",
              "      <th>N</th>\n",
              "      <th>V</th>\n",
              "      <th>Nb</th>\n",
              "    </tr>\n",
              "  </thead>\n",
              "  <tbody>\n",
              "    <tr>\n",
              "      <th>0</th>\n",
              "      <td>SUJ 2</td>\n",
              "      <td>0.98</td>\n",
              "      <td>0.19</td>\n",
              "      <td>0.42</td>\n",
              "      <td>0.020</td>\n",
              "      <td>0.018</td>\n",
              "      <td>1.470232</td>\n",
              "      <td>0.00</td>\n",
              "      <td>0.21</td>\n",
              "      <td>0.12</td>\n",
              "      <td>...</td>\n",
              "      <td>NaN</td>\n",
              "      <td>NaN</td>\n",
              "      <td>NaN</td>\n",
              "      <td>NaN</td>\n",
              "      <td>NaN</td>\n",
              "      <td>NaN</td>\n",
              "      <td>NaN</td>\n",
              "      <td>NaN</td>\n",
              "      <td>NaN</td>\n",
              "      <td>NaN</td>\n",
              "    </tr>\n",
              "    <tr>\n",
              "      <th>1</th>\n",
              "      <td>SUJ 2</td>\n",
              "      <td>1.09</td>\n",
              "      <td>0.17</td>\n",
              "      <td>0.28</td>\n",
              "      <td>0.009</td>\n",
              "      <td>0.019</td>\n",
              "      <td>1.426054</td>\n",
              "      <td>0.01</td>\n",
              "      <td>0.12</td>\n",
              "      <td>0.13</td>\n",
              "      <td>...</td>\n",
              "      <td>NaN</td>\n",
              "      <td>NaN</td>\n",
              "      <td>NaN</td>\n",
              "      <td>NaN</td>\n",
              "      <td>NaN</td>\n",
              "      <td>NaN</td>\n",
              "      <td>NaN</td>\n",
              "      <td>NaN</td>\n",
              "      <td>NaN</td>\n",
              "      <td>NaN</td>\n",
              "    </tr>\n",
              "    <tr>\n",
              "      <th>2</th>\n",
              "      <td>SUJ 2</td>\n",
              "      <td>0.99</td>\n",
              "      <td>0.30</td>\n",
              "      <td>0.47</td>\n",
              "      <td>0.018</td>\n",
              "      <td>0.020</td>\n",
              "      <td>1.545262</td>\n",
              "      <td>0.06</td>\n",
              "      <td>0.21</td>\n",
              "      <td>0.18</td>\n",
              "      <td>...</td>\n",
              "      <td>NaN</td>\n",
              "      <td>NaN</td>\n",
              "      <td>NaN</td>\n",
              "      <td>NaN</td>\n",
              "      <td>NaN</td>\n",
              "      <td>NaN</td>\n",
              "      <td>NaN</td>\n",
              "      <td>NaN</td>\n",
              "      <td>NaN</td>\n",
              "      <td>NaN</td>\n",
              "    </tr>\n",
              "    <tr>\n",
              "      <th>3</th>\n",
              "      <td>SUJ 2</td>\n",
              "      <td>1.08</td>\n",
              "      <td>0.22</td>\n",
              "      <td>0.36</td>\n",
              "      <td>0.024</td>\n",
              "      <td>0.018</td>\n",
              "      <td>1.436607</td>\n",
              "      <td>0.07</td>\n",
              "      <td>0.14</td>\n",
              "      <td>0.17</td>\n",
              "      <td>...</td>\n",
              "      <td>NaN</td>\n",
              "      <td>NaN</td>\n",
              "      <td>NaN</td>\n",
              "      <td>NaN</td>\n",
              "      <td>NaN</td>\n",
              "      <td>NaN</td>\n",
              "      <td>NaN</td>\n",
              "      <td>NaN</td>\n",
              "      <td>NaN</td>\n",
              "      <td>NaN</td>\n",
              "    </tr>\n",
              "    <tr>\n",
              "      <th>4</th>\n",
              "      <td>SUJ 2</td>\n",
              "      <td>1.02</td>\n",
              "      <td>0.22</td>\n",
              "      <td>0.32</td>\n",
              "      <td>0.021</td>\n",
              "      <td>0.006</td>\n",
              "      <td>1.333186</td>\n",
              "      <td>0.03</td>\n",
              "      <td>0.13</td>\n",
              "      <td>0.08</td>\n",
              "      <td>...</td>\n",
              "      <td>NaN</td>\n",
              "      <td>NaN</td>\n",
              "      <td>NaN</td>\n",
              "      <td>NaN</td>\n",
              "      <td>NaN</td>\n",
              "      <td>NaN</td>\n",
              "      <td>NaN</td>\n",
              "      <td>NaN</td>\n",
              "      <td>NaN</td>\n",
              "      <td>NaN</td>\n",
              "    </tr>\n",
              "  </tbody>\n",
              "</table>\n",
              "<p>5 rows × 21 columns</p>\n",
              "</div>\n",
              "      <button class=\"colab-df-convert\" onclick=\"convertToInteractive('df-3425b31f-19e4-40e6-81e8-fec31a965f19')\"\n",
              "              title=\"Convert this dataframe to an interactive table.\"\n",
              "              style=\"display:none;\">\n",
              "        \n",
              "  <svg xmlns=\"http://www.w3.org/2000/svg\" height=\"24px\"viewBox=\"0 0 24 24\"\n",
              "       width=\"24px\">\n",
              "    <path d=\"M0 0h24v24H0V0z\" fill=\"none\"/>\n",
              "    <path d=\"M18.56 5.44l.94 2.06.94-2.06 2.06-.94-2.06-.94-.94-2.06-.94 2.06-2.06.94zm-11 1L8.5 8.5l.94-2.06 2.06-.94-2.06-.94L8.5 2.5l-.94 2.06-2.06.94zm10 10l.94 2.06.94-2.06 2.06-.94-2.06-.94-.94-2.06-.94 2.06-2.06.94z\"/><path d=\"M17.41 7.96l-1.37-1.37c-.4-.4-.92-.59-1.43-.59-.52 0-1.04.2-1.43.59L10.3 9.45l-7.72 7.72c-.78.78-.78 2.05 0 2.83L4 21.41c.39.39.9.59 1.41.59.51 0 1.02-.2 1.41-.59l7.78-7.78 2.81-2.81c.8-.78.8-2.07 0-2.86zM5.41 20L4 18.59l7.72-7.72 1.47 1.35L5.41 20z\"/>\n",
              "  </svg>\n",
              "      </button>\n",
              "      \n",
              "  <style>\n",
              "    .colab-df-container {\n",
              "      display:flex;\n",
              "      flex-wrap:wrap;\n",
              "      gap: 12px;\n",
              "    }\n",
              "\n",
              "    .colab-df-convert {\n",
              "      background-color: #E8F0FE;\n",
              "      border: none;\n",
              "      border-radius: 50%;\n",
              "      cursor: pointer;\n",
              "      display: none;\n",
              "      fill: #1967D2;\n",
              "      height: 32px;\n",
              "      padding: 0 0 0 0;\n",
              "      width: 32px;\n",
              "    }\n",
              "\n",
              "    .colab-df-convert:hover {\n",
              "      background-color: #E2EBFA;\n",
              "      box-shadow: 0px 1px 2px rgba(60, 64, 67, 0.3), 0px 1px 3px 1px rgba(60, 64, 67, 0.15);\n",
              "      fill: #174EA6;\n",
              "    }\n",
              "\n",
              "    [theme=dark] .colab-df-convert {\n",
              "      background-color: #3B4455;\n",
              "      fill: #D2E3FC;\n",
              "    }\n",
              "\n",
              "    [theme=dark] .colab-df-convert:hover {\n",
              "      background-color: #434B5C;\n",
              "      box-shadow: 0px 1px 3px 1px rgba(0, 0, 0, 0.15);\n",
              "      filter: drop-shadow(0px 1px 2px rgba(0, 0, 0, 0.3));\n",
              "      fill: #FFFFFF;\n",
              "    }\n",
              "  </style>\n",
              "\n",
              "      <script>\n",
              "        const buttonEl =\n",
              "          document.querySelector('#df-3425b31f-19e4-40e6-81e8-fec31a965f19 button.colab-df-convert');\n",
              "        buttonEl.style.display =\n",
              "          google.colab.kernel.accessAllowed ? 'block' : 'none';\n",
              "\n",
              "        async function convertToInteractive(key) {\n",
              "          const element = document.querySelector('#df-3425b31f-19e4-40e6-81e8-fec31a965f19');\n",
              "          const dataTable =\n",
              "            await google.colab.kernel.invokeFunction('convertToInteractive',\n",
              "                                                     [key], {});\n",
              "          if (!dataTable) return;\n",
              "\n",
              "          const docLinkHtml = 'Like what you see? Visit the ' +\n",
              "            '<a target=\"_blank\" href=https://colab.research.google.com/notebooks/data_table.ipynb>data table notebook</a>'\n",
              "            + ' to learn more about interactive tables.';\n",
              "          element.innerHTML = '';\n",
              "          dataTable['output_type'] = 'display_data';\n",
              "          await google.colab.output.renderOutput(dataTable, element);\n",
              "          const docLink = document.createElement('div');\n",
              "          docLink.innerHTML = docLinkHtml;\n",
              "          element.appendChild(docLink);\n",
              "        }\n",
              "      </script>\n",
              "    </div>\n",
              "  </div>\n",
              "  "
            ]
          },
          "metadata": {},
          "execution_count": 3
        }
      ]
    },
    {
      "cell_type": "code",
      "source": [
        "steel_df.describe()"
      ],
      "metadata": {
        "colab": {
          "base_uri": "https://localhost:8080/",
          "height": 364
        },
        "id": "T_0t4QHsyyl8",
        "outputId": "afea1083-a56f-4a89-9332-2b77bbb2e693"
      },
      "execution_count": null,
      "outputs": [
        {
          "output_type": "execute_result",
          "data": {
            "text/plain": [
              "                 C           Si           Mn            P            S  \\\n",
              "count  1829.000000  1829.000000  1679.000000  1709.000000  1709.000000   \n",
              "mean      0.207151     1.021370     0.755688     0.017603     0.022895   \n",
              "std       0.240411     2.623957     0.565259     0.014482     0.055049   \n",
              "min       0.000000     0.000000     0.000000     0.000000     0.000000   \n",
              "25%       0.050000     0.089000     0.240000     0.010000     0.004000   \n",
              "50%       0.110000     0.280000     0.700000     0.014000     0.010000   \n",
              "75%       0.260000     0.640000     1.120000     0.021000     0.020000   \n",
              "max       1.100000    11.970000     3.270000     0.230000     0.350000   \n",
              "\n",
              "                Cr         Mo           Ni           Cu          Pb  \\\n",
              "count  1677.000000  927.00000  1497.000000  1436.000000  180.000000   \n",
              "mean      3.931692    0.03385     1.750132     0.704119    0.139111   \n",
              "std       7.032597    0.06015     3.375497     1.246362    0.085850   \n",
              "min       0.000000    0.00000     0.000000     0.000000    0.000000   \n",
              "25%       0.020000    0.00200     0.010000     0.010000    0.070000   \n",
              "50%       0.160000    0.00500     0.080000     0.110000    0.135000   \n",
              "75%       1.308466    0.04000     0.250000     0.330000    0.182500   \n",
              "max      19.940000    0.32800    10.480000     4.990000    0.350000   \n",
              "\n",
              "               Al          Mg          Zn          Fe          Sn          Ti  \\\n",
              "count  717.000000  180.000000  180.000000  180.000000  120.000000  832.000000   \n",
              "mean     0.136901    0.438056    0.721056    0.565667    0.095167    0.042499   \n",
              "std      0.317521    0.413408    0.818032    0.354559    0.059916    0.063950   \n",
              "min      0.001000    0.000000    0.000000    0.000000    0.000000    0.000000   \n",
              "25%      0.032000    0.117500    0.130000    0.280000    0.040000    0.001000   \n",
              "50%      0.040000    0.220000    0.400000    0.500000    0.100000    0.017000   \n",
              "75%      0.050000    0.922500    0.892500    0.892500    0.140000    0.056000   \n",
              "max      1.788000    1.190000    2.960000    1.260000    0.200000    0.300000   \n",
              "\n",
              "               B          N           V          Nb  \n",
              "count  60.000000  60.000000  588.000000  570.000000  \n",
              "mean    0.002925   0.005267    0.003747    0.008332  \n",
              "std     0.000828   0.003013    0.010756    0.013972  \n",
              "min     0.001500   0.000000    0.000000    0.000000  \n",
              "25%     0.002250   0.003000    0.001000    0.000000  \n",
              "50%     0.002900   0.006000    0.001000    0.001000  \n",
              "75%     0.003500   0.008000    0.002000    0.011750  \n",
              "max     0.004400   0.010000    0.136000    0.092000  "
            ],
            "text/html": [
              "\n",
              "  <div id=\"df-c458ac55-33b2-4db9-bfaf-7dfd9f5c9d4c\">\n",
              "    <div class=\"colab-df-container\">\n",
              "      <div>\n",
              "<style scoped>\n",
              "    .dataframe tbody tr th:only-of-type {\n",
              "        vertical-align: middle;\n",
              "    }\n",
              "\n",
              "    .dataframe tbody tr th {\n",
              "        vertical-align: top;\n",
              "    }\n",
              "\n",
              "    .dataframe thead th {\n",
              "        text-align: right;\n",
              "    }\n",
              "</style>\n",
              "<table border=\"1\" class=\"dataframe\">\n",
              "  <thead>\n",
              "    <tr style=\"text-align: right;\">\n",
              "      <th></th>\n",
              "      <th>C</th>\n",
              "      <th>Si</th>\n",
              "      <th>Mn</th>\n",
              "      <th>P</th>\n",
              "      <th>S</th>\n",
              "      <th>Cr</th>\n",
              "      <th>Mo</th>\n",
              "      <th>Ni</th>\n",
              "      <th>Cu</th>\n",
              "      <th>Pb</th>\n",
              "      <th>Al</th>\n",
              "      <th>Mg</th>\n",
              "      <th>Zn</th>\n",
              "      <th>Fe</th>\n",
              "      <th>Sn</th>\n",
              "      <th>Ti</th>\n",
              "      <th>B</th>\n",
              "      <th>N</th>\n",
              "      <th>V</th>\n",
              "      <th>Nb</th>\n",
              "    </tr>\n",
              "  </thead>\n",
              "  <tbody>\n",
              "    <tr>\n",
              "      <th>count</th>\n",
              "      <td>1829.000000</td>\n",
              "      <td>1829.000000</td>\n",
              "      <td>1679.000000</td>\n",
              "      <td>1709.000000</td>\n",
              "      <td>1709.000000</td>\n",
              "      <td>1677.000000</td>\n",
              "      <td>927.00000</td>\n",
              "      <td>1497.000000</td>\n",
              "      <td>1436.000000</td>\n",
              "      <td>180.000000</td>\n",
              "      <td>717.000000</td>\n",
              "      <td>180.000000</td>\n",
              "      <td>180.000000</td>\n",
              "      <td>180.000000</td>\n",
              "      <td>120.000000</td>\n",
              "      <td>832.000000</td>\n",
              "      <td>60.000000</td>\n",
              "      <td>60.000000</td>\n",
              "      <td>588.000000</td>\n",
              "      <td>570.000000</td>\n",
              "    </tr>\n",
              "    <tr>\n",
              "      <th>mean</th>\n",
              "      <td>0.207151</td>\n",
              "      <td>1.021370</td>\n",
              "      <td>0.755688</td>\n",
              "      <td>0.017603</td>\n",
              "      <td>0.022895</td>\n",
              "      <td>3.931692</td>\n",
              "      <td>0.03385</td>\n",
              "      <td>1.750132</td>\n",
              "      <td>0.704119</td>\n",
              "      <td>0.139111</td>\n",
              "      <td>0.136901</td>\n",
              "      <td>0.438056</td>\n",
              "      <td>0.721056</td>\n",
              "      <td>0.565667</td>\n",
              "      <td>0.095167</td>\n",
              "      <td>0.042499</td>\n",
              "      <td>0.002925</td>\n",
              "      <td>0.005267</td>\n",
              "      <td>0.003747</td>\n",
              "      <td>0.008332</td>\n",
              "    </tr>\n",
              "    <tr>\n",
              "      <th>std</th>\n",
              "      <td>0.240411</td>\n",
              "      <td>2.623957</td>\n",
              "      <td>0.565259</td>\n",
              "      <td>0.014482</td>\n",
              "      <td>0.055049</td>\n",
              "      <td>7.032597</td>\n",
              "      <td>0.06015</td>\n",
              "      <td>3.375497</td>\n",
              "      <td>1.246362</td>\n",
              "      <td>0.085850</td>\n",
              "      <td>0.317521</td>\n",
              "      <td>0.413408</td>\n",
              "      <td>0.818032</td>\n",
              "      <td>0.354559</td>\n",
              "      <td>0.059916</td>\n",
              "      <td>0.063950</td>\n",
              "      <td>0.000828</td>\n",
              "      <td>0.003013</td>\n",
              "      <td>0.010756</td>\n",
              "      <td>0.013972</td>\n",
              "    </tr>\n",
              "    <tr>\n",
              "      <th>min</th>\n",
              "      <td>0.000000</td>\n",
              "      <td>0.000000</td>\n",
              "      <td>0.000000</td>\n",
              "      <td>0.000000</td>\n",
              "      <td>0.000000</td>\n",
              "      <td>0.000000</td>\n",
              "      <td>0.00000</td>\n",
              "      <td>0.000000</td>\n",
              "      <td>0.000000</td>\n",
              "      <td>0.000000</td>\n",
              "      <td>0.001000</td>\n",
              "      <td>0.000000</td>\n",
              "      <td>0.000000</td>\n",
              "      <td>0.000000</td>\n",
              "      <td>0.000000</td>\n",
              "      <td>0.000000</td>\n",
              "      <td>0.001500</td>\n",
              "      <td>0.000000</td>\n",
              "      <td>0.000000</td>\n",
              "      <td>0.000000</td>\n",
              "    </tr>\n",
              "    <tr>\n",
              "      <th>25%</th>\n",
              "      <td>0.050000</td>\n",
              "      <td>0.089000</td>\n",
              "      <td>0.240000</td>\n",
              "      <td>0.010000</td>\n",
              "      <td>0.004000</td>\n",
              "      <td>0.020000</td>\n",
              "      <td>0.00200</td>\n",
              "      <td>0.010000</td>\n",
              "      <td>0.010000</td>\n",
              "      <td>0.070000</td>\n",
              "      <td>0.032000</td>\n",
              "      <td>0.117500</td>\n",
              "      <td>0.130000</td>\n",
              "      <td>0.280000</td>\n",
              "      <td>0.040000</td>\n",
              "      <td>0.001000</td>\n",
              "      <td>0.002250</td>\n",
              "      <td>0.003000</td>\n",
              "      <td>0.001000</td>\n",
              "      <td>0.000000</td>\n",
              "    </tr>\n",
              "    <tr>\n",
              "      <th>50%</th>\n",
              "      <td>0.110000</td>\n",
              "      <td>0.280000</td>\n",
              "      <td>0.700000</td>\n",
              "      <td>0.014000</td>\n",
              "      <td>0.010000</td>\n",
              "      <td>0.160000</td>\n",
              "      <td>0.00500</td>\n",
              "      <td>0.080000</td>\n",
              "      <td>0.110000</td>\n",
              "      <td>0.135000</td>\n",
              "      <td>0.040000</td>\n",
              "      <td>0.220000</td>\n",
              "      <td>0.400000</td>\n",
              "      <td>0.500000</td>\n",
              "      <td>0.100000</td>\n",
              "      <td>0.017000</td>\n",
              "      <td>0.002900</td>\n",
              "      <td>0.006000</td>\n",
              "      <td>0.001000</td>\n",
              "      <td>0.001000</td>\n",
              "    </tr>\n",
              "    <tr>\n",
              "      <th>75%</th>\n",
              "      <td>0.260000</td>\n",
              "      <td>0.640000</td>\n",
              "      <td>1.120000</td>\n",
              "      <td>0.021000</td>\n",
              "      <td>0.020000</td>\n",
              "      <td>1.308466</td>\n",
              "      <td>0.04000</td>\n",
              "      <td>0.250000</td>\n",
              "      <td>0.330000</td>\n",
              "      <td>0.182500</td>\n",
              "      <td>0.050000</td>\n",
              "      <td>0.922500</td>\n",
              "      <td>0.892500</td>\n",
              "      <td>0.892500</td>\n",
              "      <td>0.140000</td>\n",
              "      <td>0.056000</td>\n",
              "      <td>0.003500</td>\n",
              "      <td>0.008000</td>\n",
              "      <td>0.002000</td>\n",
              "      <td>0.011750</td>\n",
              "    </tr>\n",
              "    <tr>\n",
              "      <th>max</th>\n",
              "      <td>1.100000</td>\n",
              "      <td>11.970000</td>\n",
              "      <td>3.270000</td>\n",
              "      <td>0.230000</td>\n",
              "      <td>0.350000</td>\n",
              "      <td>19.940000</td>\n",
              "      <td>0.32800</td>\n",
              "      <td>10.480000</td>\n",
              "      <td>4.990000</td>\n",
              "      <td>0.350000</td>\n",
              "      <td>1.788000</td>\n",
              "      <td>1.190000</td>\n",
              "      <td>2.960000</td>\n",
              "      <td>1.260000</td>\n",
              "      <td>0.200000</td>\n",
              "      <td>0.300000</td>\n",
              "      <td>0.004400</td>\n",
              "      <td>0.010000</td>\n",
              "      <td>0.136000</td>\n",
              "      <td>0.092000</td>\n",
              "    </tr>\n",
              "  </tbody>\n",
              "</table>\n",
              "</div>\n",
              "      <button class=\"colab-df-convert\" onclick=\"convertToInteractive('df-c458ac55-33b2-4db9-bfaf-7dfd9f5c9d4c')\"\n",
              "              title=\"Convert this dataframe to an interactive table.\"\n",
              "              style=\"display:none;\">\n",
              "        \n",
              "  <svg xmlns=\"http://www.w3.org/2000/svg\" height=\"24px\"viewBox=\"0 0 24 24\"\n",
              "       width=\"24px\">\n",
              "    <path d=\"M0 0h24v24H0V0z\" fill=\"none\"/>\n",
              "    <path d=\"M18.56 5.44l.94 2.06.94-2.06 2.06-.94-2.06-.94-.94-2.06-.94 2.06-2.06.94zm-11 1L8.5 8.5l.94-2.06 2.06-.94-2.06-.94L8.5 2.5l-.94 2.06-2.06.94zm10 10l.94 2.06.94-2.06 2.06-.94-2.06-.94-.94-2.06-.94 2.06-2.06.94z\"/><path d=\"M17.41 7.96l-1.37-1.37c-.4-.4-.92-.59-1.43-.59-.52 0-1.04.2-1.43.59L10.3 9.45l-7.72 7.72c-.78.78-.78 2.05 0 2.83L4 21.41c.39.39.9.59 1.41.59.51 0 1.02-.2 1.41-.59l7.78-7.78 2.81-2.81c.8-.78.8-2.07 0-2.86zM5.41 20L4 18.59l7.72-7.72 1.47 1.35L5.41 20z\"/>\n",
              "  </svg>\n",
              "      </button>\n",
              "      \n",
              "  <style>\n",
              "    .colab-df-container {\n",
              "      display:flex;\n",
              "      flex-wrap:wrap;\n",
              "      gap: 12px;\n",
              "    }\n",
              "\n",
              "    .colab-df-convert {\n",
              "      background-color: #E8F0FE;\n",
              "      border: none;\n",
              "      border-radius: 50%;\n",
              "      cursor: pointer;\n",
              "      display: none;\n",
              "      fill: #1967D2;\n",
              "      height: 32px;\n",
              "      padding: 0 0 0 0;\n",
              "      width: 32px;\n",
              "    }\n",
              "\n",
              "    .colab-df-convert:hover {\n",
              "      background-color: #E2EBFA;\n",
              "      box-shadow: 0px 1px 2px rgba(60, 64, 67, 0.3), 0px 1px 3px 1px rgba(60, 64, 67, 0.15);\n",
              "      fill: #174EA6;\n",
              "    }\n",
              "\n",
              "    [theme=dark] .colab-df-convert {\n",
              "      background-color: #3B4455;\n",
              "      fill: #D2E3FC;\n",
              "    }\n",
              "\n",
              "    [theme=dark] .colab-df-convert:hover {\n",
              "      background-color: #434B5C;\n",
              "      box-shadow: 0px 1px 3px 1px rgba(0, 0, 0, 0.15);\n",
              "      filter: drop-shadow(0px 1px 2px rgba(0, 0, 0, 0.3));\n",
              "      fill: #FFFFFF;\n",
              "    }\n",
              "  </style>\n",
              "\n",
              "      <script>\n",
              "        const buttonEl =\n",
              "          document.querySelector('#df-c458ac55-33b2-4db9-bfaf-7dfd9f5c9d4c button.colab-df-convert');\n",
              "        buttonEl.style.display =\n",
              "          google.colab.kernel.accessAllowed ? 'block' : 'none';\n",
              "\n",
              "        async function convertToInteractive(key) {\n",
              "          const element = document.querySelector('#df-c458ac55-33b2-4db9-bfaf-7dfd9f5c9d4c');\n",
              "          const dataTable =\n",
              "            await google.colab.kernel.invokeFunction('convertToInteractive',\n",
              "                                                     [key], {});\n",
              "          if (!dataTable) return;\n",
              "\n",
              "          const docLinkHtml = 'Like what you see? Visit the ' +\n",
              "            '<a target=\"_blank\" href=https://colab.research.google.com/notebooks/data_table.ipynb>data table notebook</a>'\n",
              "            + ' to learn more about interactive tables.';\n",
              "          element.innerHTML = '';\n",
              "          dataTable['output_type'] = 'display_data';\n",
              "          await google.colab.output.renderOutput(dataTable, element);\n",
              "          const docLink = document.createElement('div');\n",
              "          docLink.innerHTML = docLinkHtml;\n",
              "          element.appendChild(docLink);\n",
              "        }\n",
              "      </script>\n",
              "    </div>\n",
              "  </div>\n",
              "  "
            ]
          },
          "metadata": {},
          "execution_count": 4
        }
      ]
    },
    {
      "cell_type": "markdown",
      "source": [
        "**Comments:**\n",
        "1. Carbon wt% of the dataset ranges from 0.0 ~ 1.1\n",
        "\n",
        "      - 1.1 wt% of Carbon will be for Sintered materials\n",
        "      \n",
        "      - 0.0 wt% of Carbon will be for Aluminum\n",
        "      \n",
        "2. Mn wt% of the dataset ranges from 0.0 ~ 3.2 wt%\n",
        "      "
      ],
      "metadata": {
        "id": "0Jca0fd82ZTT"
      }
    },
    {
      "cell_type": "code",
      "source": [
        "mn_max_index=steel_df['Mn'].idxmax()\n",
        "print('Maximum Manganese is observed in {}'.format(steel_df['Steel Grade'][mn_max_index]))"
      ],
      "metadata": {
        "colab": {
          "base_uri": "https://localhost:8080/"
        },
        "id": "TPEiOPfJ8XMF",
        "outputId": "263e1a89-ad2b-4c92-b6da-5d7c27579988"
      },
      "execution_count": null,
      "outputs": [
        {
          "output_type": "stream",
          "name": "stdout",
          "text": [
            "Maximum Manganese is observed in SPC980DU\n"
          ]
        }
      ]
    },
    {
      "cell_type": "code",
      "source": [
        "al_max_index=steel_df['Al'].idxmax()\n",
        "print('Maximum Aluminum is observed in {}'.format(steel_df['Steel Grade'][al_max_index]))"
      ],
      "metadata": {
        "colab": {
          "base_uri": "https://localhost:8080/"
        },
        "id": "zG-jMPuD7kC9",
        "outputId": "afa36e4a-e4a2-41a2-ad95-7eb4ed723b53"
      },
      "execution_count": null,
      "outputs": [
        {
          "output_type": "stream",
          "name": "stdout",
          "text": [
            "Maximum Aluminum is observed in SCGA780TRIP45\n"
          ]
        }
      ]
    },
    {
      "cell_type": "markdown",
      "source": [
        "As SCGA780TRIP45 is a TRIP steel Aluminum is used"
      ],
      "metadata": {
        "id": "2ADl8ntmDhBh"
      }
    },
    {
      "cell_type": "code",
      "source": [
        "cr_max_index=steel_df['Cr'].idxmax()\n",
        "print('Maximum Chromium us observed in {}'.format(steel_df['Steel Grade'][cr_max_index]))"
      ],
      "metadata": {
        "colab": {
          "base_uri": "https://localhost:8080/"
        },
        "id": "tC8dzH8hDCa3",
        "outputId": "5cad1475-0c0e-4eb5-d8c9-0a3aa89878f2"
      },
      "execution_count": null,
      "outputs": [
        {
          "output_type": "stream",
          "name": "stdout",
          "text": [
            "Maximum Chromium us observed in SUS 304\n"
          ]
        }
      ]
    },
    {
      "cell_type": "code",
      "source": [
        "si_max_index=steel_df['Si'].idxmax()\n",
        "print('Maximum Silicon is observed in {}'.format(steel_df['Steel Grade'][si_max_index]))"
      ],
      "metadata": {
        "colab": {
          "base_uri": "https://localhost:8080/"
        },
        "id": "MWFx8Cw_EAd2",
        "outputId": "4609ee29-5158-4d3c-c571-f8f51b808798"
      },
      "execution_count": null,
      "outputs": [
        {
          "output_type": "stream",
          "name": "stdout",
          "text": [
            "Maximum Silicon is observed in ADC 12 Z\n"
          ]
        }
      ]
    },
    {
      "cell_type": "markdown",
      "source": [
        "**Comment** ADC 12 Z is a popular Aluminum Die casting grade which is used in Automotive applications. Aluminum and Silicon are major elements.\n",
        "\n",
        "Silicon is good in metallic alloys used for casting. This is because it increases the fluidity of the melt, reduces the melting temperature, decreases the contraction associated with solidification and is very cheap as a raw material."
      ],
      "metadata": {
        "id": "QWNmL92jEzJG"
      }
    },
    {
      "cell_type": "code",
      "source": [
        "steel_df['C']"
      ],
      "metadata": {
        "colab": {
          "base_uri": "https://localhost:8080/"
        },
        "id": "EeBTSt0J0LQA",
        "outputId": "12874fbb-b4fe-489b-febe-24009490a70b"
      },
      "execution_count": null,
      "outputs": [
        {
          "output_type": "execute_result",
          "data": {
            "text/plain": [
              "0       0.98\n",
              "1       1.09\n",
              "2       0.99\n",
              "3       1.08\n",
              "4       1.02\n",
              "        ... \n",
              "2005    0.51\n",
              "2006    0.55\n",
              "2007    0.50\n",
              "2008    0.53\n",
              "2009    0.58\n",
              "Name: C, Length: 2010, dtype: float64"
            ]
          },
          "metadata": {},
          "execution_count": 9
        }
      ]
    },
    {
      "cell_type": "code",
      "source": [
        "steel_df.groupby(['Steel Grade']).agg({'C':['mean'],'Mn':['mean']})"
      ],
      "metadata": {
        "colab": {
          "base_uri": "https://localhost:8080/",
          "height": 486
        },
        "id": "xH057ETBoUsF",
        "outputId": "a5de39f7-cfad-4f92-deab-8b246a360a62"
      },
      "execution_count": null,
      "outputs": [
        {
          "output_type": "execute_result",
          "data": {
            "text/plain": [
              "                    C        Mn\n",
              "                 mean      mean\n",
              "Steel Grade                    \n",
              "1470MPa      0.202000  1.446667\n",
              "1470Mpa      0.207000  2.330000\n",
              "16MnCr5      0.168167  1.162500\n",
              "22MnB5       0.230333  1.223333\n",
              "ADC 12            NaN  0.225833\n",
              "...               ...       ...\n",
              "SUS 631 J    0.044167  0.493667\n",
              "SUS XM7      0.038167  1.006833\n",
              "TS 640       0.073000  0.560000\n",
              "TS640        0.073000  0.560000\n",
              "ZE550        0.062500  0.760000\n",
              "\n",
              "[122 rows x 2 columns]"
            ],
            "text/html": [
              "\n",
              "  <div id=\"df-fc00bfa9-8679-43cb-b9b1-3f5a3aad3177\">\n",
              "    <div class=\"colab-df-container\">\n",
              "      <div>\n",
              "<style scoped>\n",
              "    .dataframe tbody tr th:only-of-type {\n",
              "        vertical-align: middle;\n",
              "    }\n",
              "\n",
              "    .dataframe tbody tr th {\n",
              "        vertical-align: top;\n",
              "    }\n",
              "\n",
              "    .dataframe thead tr th {\n",
              "        text-align: left;\n",
              "    }\n",
              "\n",
              "    .dataframe thead tr:last-of-type th {\n",
              "        text-align: right;\n",
              "    }\n",
              "</style>\n",
              "<table border=\"1\" class=\"dataframe\">\n",
              "  <thead>\n",
              "    <tr>\n",
              "      <th></th>\n",
              "      <th>C</th>\n",
              "      <th>Mn</th>\n",
              "    </tr>\n",
              "    <tr>\n",
              "      <th></th>\n",
              "      <th>mean</th>\n",
              "      <th>mean</th>\n",
              "    </tr>\n",
              "    <tr>\n",
              "      <th>Steel Grade</th>\n",
              "      <th></th>\n",
              "      <th></th>\n",
              "    </tr>\n",
              "  </thead>\n",
              "  <tbody>\n",
              "    <tr>\n",
              "      <th>1470MPa</th>\n",
              "      <td>0.202000</td>\n",
              "      <td>1.446667</td>\n",
              "    </tr>\n",
              "    <tr>\n",
              "      <th>1470Mpa</th>\n",
              "      <td>0.207000</td>\n",
              "      <td>2.330000</td>\n",
              "    </tr>\n",
              "    <tr>\n",
              "      <th>16MnCr5</th>\n",
              "      <td>0.168167</td>\n",
              "      <td>1.162500</td>\n",
              "    </tr>\n",
              "    <tr>\n",
              "      <th>22MnB5</th>\n",
              "      <td>0.230333</td>\n",
              "      <td>1.223333</td>\n",
              "    </tr>\n",
              "    <tr>\n",
              "      <th>ADC 12</th>\n",
              "      <td>NaN</td>\n",
              "      <td>0.225833</td>\n",
              "    </tr>\n",
              "    <tr>\n",
              "      <th>...</th>\n",
              "      <td>...</td>\n",
              "      <td>...</td>\n",
              "    </tr>\n",
              "    <tr>\n",
              "      <th>SUS 631 J</th>\n",
              "      <td>0.044167</td>\n",
              "      <td>0.493667</td>\n",
              "    </tr>\n",
              "    <tr>\n",
              "      <th>SUS XM7</th>\n",
              "      <td>0.038167</td>\n",
              "      <td>1.006833</td>\n",
              "    </tr>\n",
              "    <tr>\n",
              "      <th>TS 640</th>\n",
              "      <td>0.073000</td>\n",
              "      <td>0.560000</td>\n",
              "    </tr>\n",
              "    <tr>\n",
              "      <th>TS640</th>\n",
              "      <td>0.073000</td>\n",
              "      <td>0.560000</td>\n",
              "    </tr>\n",
              "    <tr>\n",
              "      <th>ZE550</th>\n",
              "      <td>0.062500</td>\n",
              "      <td>0.760000</td>\n",
              "    </tr>\n",
              "  </tbody>\n",
              "</table>\n",
              "<p>122 rows × 2 columns</p>\n",
              "</div>\n",
              "      <button class=\"colab-df-convert\" onclick=\"convertToInteractive('df-fc00bfa9-8679-43cb-b9b1-3f5a3aad3177')\"\n",
              "              title=\"Convert this dataframe to an interactive table.\"\n",
              "              style=\"display:none;\">\n",
              "        \n",
              "  <svg xmlns=\"http://www.w3.org/2000/svg\" height=\"24px\"viewBox=\"0 0 24 24\"\n",
              "       width=\"24px\">\n",
              "    <path d=\"M0 0h24v24H0V0z\" fill=\"none\"/>\n",
              "    <path d=\"M18.56 5.44l.94 2.06.94-2.06 2.06-.94-2.06-.94-.94-2.06-.94 2.06-2.06.94zm-11 1L8.5 8.5l.94-2.06 2.06-.94-2.06-.94L8.5 2.5l-.94 2.06-2.06.94zm10 10l.94 2.06.94-2.06 2.06-.94-2.06-.94-.94-2.06-.94 2.06-2.06.94z\"/><path d=\"M17.41 7.96l-1.37-1.37c-.4-.4-.92-.59-1.43-.59-.52 0-1.04.2-1.43.59L10.3 9.45l-7.72 7.72c-.78.78-.78 2.05 0 2.83L4 21.41c.39.39.9.59 1.41.59.51 0 1.02-.2 1.41-.59l7.78-7.78 2.81-2.81c.8-.78.8-2.07 0-2.86zM5.41 20L4 18.59l7.72-7.72 1.47 1.35L5.41 20z\"/>\n",
              "  </svg>\n",
              "      </button>\n",
              "      \n",
              "  <style>\n",
              "    .colab-df-container {\n",
              "      display:flex;\n",
              "      flex-wrap:wrap;\n",
              "      gap: 12px;\n",
              "    }\n",
              "\n",
              "    .colab-df-convert {\n",
              "      background-color: #E8F0FE;\n",
              "      border: none;\n",
              "      border-radius: 50%;\n",
              "      cursor: pointer;\n",
              "      display: none;\n",
              "      fill: #1967D2;\n",
              "      height: 32px;\n",
              "      padding: 0 0 0 0;\n",
              "      width: 32px;\n",
              "    }\n",
              "\n",
              "    .colab-df-convert:hover {\n",
              "      background-color: #E2EBFA;\n",
              "      box-shadow: 0px 1px 2px rgba(60, 64, 67, 0.3), 0px 1px 3px 1px rgba(60, 64, 67, 0.15);\n",
              "      fill: #174EA6;\n",
              "    }\n",
              "\n",
              "    [theme=dark] .colab-df-convert {\n",
              "      background-color: #3B4455;\n",
              "      fill: #D2E3FC;\n",
              "    }\n",
              "\n",
              "    [theme=dark] .colab-df-convert:hover {\n",
              "      background-color: #434B5C;\n",
              "      box-shadow: 0px 1px 3px 1px rgba(0, 0, 0, 0.15);\n",
              "      filter: drop-shadow(0px 1px 2px rgba(0, 0, 0, 0.3));\n",
              "      fill: #FFFFFF;\n",
              "    }\n",
              "  </style>\n",
              "\n",
              "      <script>\n",
              "        const buttonEl =\n",
              "          document.querySelector('#df-fc00bfa9-8679-43cb-b9b1-3f5a3aad3177 button.colab-df-convert');\n",
              "        buttonEl.style.display =\n",
              "          google.colab.kernel.accessAllowed ? 'block' : 'none';\n",
              "\n",
              "        async function convertToInteractive(key) {\n",
              "          const element = document.querySelector('#df-fc00bfa9-8679-43cb-b9b1-3f5a3aad3177');\n",
              "          const dataTable =\n",
              "            await google.colab.kernel.invokeFunction('convertToInteractive',\n",
              "                                                     [key], {});\n",
              "          if (!dataTable) return;\n",
              "\n",
              "          const docLinkHtml = 'Like what you see? Visit the ' +\n",
              "            '<a target=\"_blank\" href=https://colab.research.google.com/notebooks/data_table.ipynb>data table notebook</a>'\n",
              "            + ' to learn more about interactive tables.';\n",
              "          element.innerHTML = '';\n",
              "          dataTable['output_type'] = 'display_data';\n",
              "          await google.colab.output.renderOutput(dataTable, element);\n",
              "          const docLink = document.createElement('div');\n",
              "          docLink.innerHTML = docLinkHtml;\n",
              "          element.appendChild(docLink);\n",
              "        }\n",
              "      </script>\n",
              "    </div>\n",
              "  </div>\n",
              "  "
            ]
          },
          "metadata": {},
          "execution_count": 10
        }
      ]
    },
    {
      "cell_type": "code",
      "source": [
        "steel_grades=steel_df['Steel Grade'].replace('-','').str.upper()"
      ],
      "metadata": {
        "id": "TCT_LUrypFwW"
      },
      "execution_count": null,
      "outputs": []
    },
    {
      "cell_type": "code",
      "source": [
        "steel_grades=steel_df['Steel Grade'].replace(' ','').str.upper()"
      ],
      "metadata": {
        "id": "bpP6G35UrVz3"
      },
      "execution_count": null,
      "outputs": []
    },
    {
      "cell_type": "code",
      "source": [
        "steel_grades=steel_df['Steel Grade'].replace('/','').str.upper()"
      ],
      "metadata": {
        "id": "wLDl5sJ2pR--"
      },
      "execution_count": null,
      "outputs": []
    },
    {
      "cell_type": "code",
      "source": [
        "steel_df['Steel Grade'].value_counts().loc[lambda x : x>10]"
      ],
      "metadata": {
        "colab": {
          "base_uri": "https://localhost:8080/"
        },
        "id": "8-mp0ehwpUCf",
        "outputId": "f726c938-6abf-443c-98e0-a638eaee424b"
      },
      "execution_count": null,
      "outputs": [
        {
          "output_type": "execute_result",
          "data": {
            "text/plain": [
              "SPC270C          63\n",
              "SPH440-OD        61\n",
              "SUJ 2            61\n",
              "22MnB5           60\n",
              "SUM 24           60\n",
              "SUS 302          60\n",
              "SUS 304          60\n",
              "SUS 429          60\n",
              "SUS 631 J        60\n",
              "SUS XM7          60\n",
              "PMF 4040         60\n",
              "PMF 4050         60\n",
              "ADC 12           60\n",
              "16MnCr5          60\n",
              "SUS 301          60\n",
              "Al 6061          60\n",
              "SPC270D          44\n",
              "ADC 12 Z         40\n",
              "SPC980DU         36\n",
              "SPC440           35\n",
              "SPH270C-OD       34\n",
              "SPH440OD         34\n",
              "S50C             30\n",
              "S10C             30\n",
              "S18C             30\n",
              "S35C             30\n",
              "SAE1010          30\n",
              "S55C             30\n",
              "SCM30            30\n",
              "SCM35            30\n",
              "SCM415           30\n",
              "SCM420           30\n",
              "SCR420           30\n",
              "SAE1025          30\n",
              "SAE1035          30\n",
              "SAE1045          30\n",
              "SAE1050          30\n",
              "SAE1018          30\n",
              "SAE1055          30\n",
              "SCGA270 D -45    24\n",
              "SPC270E          22\n",
              "ADC 12 Z         20\n",
              "SPH590-OD        19\n",
              "SPC590DU         17\n",
              "SPC590           15\n",
              "SCGA270 C -45    15\n",
              "Name: Steel Grade, dtype: int64"
            ]
          },
          "metadata": {},
          "execution_count": 14
        }
      ]
    },
    {
      "cell_type": "code",
      "source": [
        "steel_df['Steel Grade'].replace(' ','')"
      ],
      "metadata": {
        "colab": {
          "base_uri": "https://localhost:8080/"
        },
        "id": "aBmn3og4rdba",
        "outputId": "93b8e7e5-c321-49d1-b2f6-55609c618f01"
      },
      "execution_count": null,
      "outputs": [
        {
          "output_type": "execute_result",
          "data": {
            "text/plain": [
              "0         SUJ 2\n",
              "1         SUJ 2\n",
              "2         SUJ 2\n",
              "3         SUJ 2\n",
              "4         SUJ 2\n",
              "         ...   \n",
              "2005    SAE1055\n",
              "2006    SAE1055\n",
              "2007    SAE1055\n",
              "2008    SAE1055\n",
              "2009    SAE1055\n",
              "Name: Steel Grade, Length: 2010, dtype: object"
            ]
          },
          "metadata": {},
          "execution_count": 15
        }
      ]
    },
    {
      "cell_type": "code",
      "source": [
        "steel_df['Steel Grade'].value_counts().loc[lambda x : x>10]"
      ],
      "metadata": {
        "colab": {
          "base_uri": "https://localhost:8080/"
        },
        "id": "rEK4P2Xr5Kgi",
        "outputId": "0e9c9492-5459-4235-9571-8c2f5f88f0de"
      },
      "execution_count": null,
      "outputs": [
        {
          "output_type": "execute_result",
          "data": {
            "text/plain": [
              "SPC270C          63\n",
              "SPH440-OD        61\n",
              "SUJ 2            61\n",
              "22MnB5           60\n",
              "SUM 24           60\n",
              "SUS 302          60\n",
              "SUS 304          60\n",
              "SUS 429          60\n",
              "SUS 631 J        60\n",
              "SUS XM7          60\n",
              "PMF 4040         60\n",
              "PMF 4050         60\n",
              "ADC 12           60\n",
              "16MnCr5          60\n",
              "SUS 301          60\n",
              "Al 6061          60\n",
              "SPC270D          44\n",
              "ADC 12 Z         40\n",
              "SPC980DU         36\n",
              "SPC440           35\n",
              "SPH270C-OD       34\n",
              "SPH440OD         34\n",
              "S50C             30\n",
              "S10C             30\n",
              "S18C             30\n",
              "S35C             30\n",
              "SAE1010          30\n",
              "S55C             30\n",
              "SCM30            30\n",
              "SCM35            30\n",
              "SCM415           30\n",
              "SCM420           30\n",
              "SCR420           30\n",
              "SAE1025          30\n",
              "SAE1035          30\n",
              "SAE1045          30\n",
              "SAE1050          30\n",
              "SAE1018          30\n",
              "SAE1055          30\n",
              "SCGA270 D -45    24\n",
              "SPC270E          22\n",
              "ADC 12 Z         20\n",
              "SPH590-OD        19\n",
              "SPC590DU         17\n",
              "SPC590           15\n",
              "SCGA270 C -45    15\n",
              "Name: Steel Grade, dtype: int64"
            ]
          },
          "metadata": {},
          "execution_count": 16
        }
      ]
    },
    {
      "cell_type": "code",
      "source": [
        "len(steel_df['Steel Grade'].value_counts().loc[lambda x : x>10])"
      ],
      "metadata": {
        "colab": {
          "base_uri": "https://localhost:8080/"
        },
        "id": "rbXhG7H-5OR6",
        "outputId": "14ab85ae-e725-4a48-828c-6dc0b6c73f80"
      },
      "execution_count": null,
      "outputs": [
        {
          "output_type": "execute_result",
          "data": {
            "text/plain": [
              "46"
            ]
          },
          "metadata": {},
          "execution_count": 17
        }
      ]
    },
    {
      "cell_type": "markdown",
      "source": [
        "**Comments:** There are 46 steel grades which have records above 10"
      ],
      "metadata": {
        "id": "rqZ0vF2R5hqC"
      }
    },
    {
      "cell_type": "code",
      "source": [
        "len(steel_df['Steel Grade'].value_counts().loc[lambda x : x<5])"
      ],
      "metadata": {
        "colab": {
          "base_uri": "https://localhost:8080/"
        },
        "id": "hm42ef7h5gyW",
        "outputId": "44b0e805-c943-4566-dccc-9fea6f423faf"
      },
      "execution_count": null,
      "outputs": [
        {
          "output_type": "execute_result",
          "data": {
            "text/plain": [
              "63"
            ]
          },
          "metadata": {},
          "execution_count": 18
        }
      ]
    },
    {
      "cell_type": "markdown",
      "source": [
        "**Comments:** There are 63 steel grades which have less than 5 records"
      ],
      "metadata": {
        "id": "x2JU7lI-6PhC"
      }
    },
    {
      "cell_type": "code",
      "source": [
        "len(steel_df['Steel Grade'].value_counts().loc[lambda x : x<4])"
      ],
      "metadata": {
        "colab": {
          "base_uri": "https://localhost:8080/"
        },
        "id": "-i5OiVF67I66",
        "outputId": "ceb734ba-6a90-4603-a7ad-356b6b4d549d"
      },
      "execution_count": null,
      "outputs": [
        {
          "output_type": "execute_result",
          "data": {
            "text/plain": [
              "60"
            ]
          },
          "metadata": {},
          "execution_count": 19
        }
      ]
    },
    {
      "cell_type": "markdown",
      "source": [
        "**Comments:** There are 60 steel grades which have less than 4 records"
      ],
      "metadata": {
        "id": "wFaxWM9c7Pm3"
      }
    },
    {
      "cell_type": "markdown",
      "source": [
        "Steel grades which have less than 5 records, might make the model overfit.\n",
        "\n",
        "**Case 1:** Can check the accuracy of the model with less than 5 records\n",
        "\n",
        "**Case 2:** Check the accuracy of the model without steel grades with less than 5 records "
      ],
      "metadata": {
        "id": "tXIngpbs6i5k"
      }
    },
    {
      "cell_type": "markdown",
      "source": [
        "**Analyzing Major elements in the database**"
      ],
      "metadata": {
        "id": "dEw5C8Jj-fOA"
      }
    },
    {
      "cell_type": "code",
      "source": [
        "steel_df['C'].isnull().sum()"
      ],
      "metadata": {
        "id": "N_1RD2pE9Lkz",
        "colab": {
          "base_uri": "https://localhost:8080/"
        },
        "outputId": "2b742d0e-76fa-4cc4-f6b1-fb619074017a"
      },
      "execution_count": null,
      "outputs": [
        {
          "output_type": "execute_result",
          "data": {
            "text/plain": [
              "181"
            ]
          },
          "metadata": {},
          "execution_count": 20
        }
      ]
    },
    {
      "cell_type": "code",
      "source": [
        "steel_df['Mn'].isnull().sum()"
      ],
      "metadata": {
        "colab": {
          "base_uri": "https://localhost:8080/"
        },
        "id": "n869NuycMMzx",
        "outputId": "6b81cfda-b4f2-4aa6-aa13-1af91c9a0f3c"
      },
      "execution_count": null,
      "outputs": [
        {
          "output_type": "execute_result",
          "data": {
            "text/plain": [
              "331"
            ]
          },
          "metadata": {},
          "execution_count": 21
        }
      ]
    },
    {
      "cell_type": "code",
      "source": [
        "steel_df['Si'].isnull().sum()"
      ],
      "metadata": {
        "colab": {
          "base_uri": "https://localhost:8080/"
        },
        "id": "JBs-wUPUM4m8",
        "outputId": "3b8d4f69-c774-4f72-ca58-04faea6459a0"
      },
      "execution_count": null,
      "outputs": [
        {
          "output_type": "execute_result",
          "data": {
            "text/plain": [
              "181"
            ]
          },
          "metadata": {},
          "execution_count": 22
        }
      ]
    },
    {
      "cell_type": "code",
      "source": [
        "steel_df['B'].isnull().sum()/100"
      ],
      "metadata": {
        "colab": {
          "base_uri": "https://localhost:8080/"
        },
        "id": "K32ctPbpNA7b",
        "outputId": "495d9b4d-dd30-4732-95c5-8e1127ef1645"
      },
      "execution_count": null,
      "outputs": [
        {
          "output_type": "execute_result",
          "data": {
            "text/plain": [
              "19.5"
            ]
          },
          "metadata": {},
          "execution_count": 23
        }
      ]
    },
    {
      "cell_type": "markdown",
      "source": [
        "**Splitting Dataset into x and y**"
      ],
      "metadata": {
        "id": "n0eTkQuwZBJE"
      }
    },
    {
      "cell_type": "code",
      "source": [
        "y=steel_df['Steel Grade']\n",
        "x=steel_df.iloc[:,1:]"
      ],
      "metadata": {
        "id": "RP_1IBJnY_ya"
      },
      "execution_count": null,
      "outputs": []
    },
    {
      "cell_type": "code",
      "source": [
        "x.head()"
      ],
      "metadata": {
        "colab": {
          "base_uri": "https://localhost:8080/",
          "height": 270
        },
        "id": "LtpLOBnAZhZ0",
        "outputId": "ebab6786-9caf-4137-d752-4d76d3e78e65"
      },
      "execution_count": null,
      "outputs": [
        {
          "output_type": "execute_result",
          "data": {
            "text/plain": [
              "      C    Si    Mn      P      S        Cr    Mo    Ni    Cu  Pb  Al  Mg  Zn  \\\n",
              "0  0.98  0.19  0.42  0.020  0.018  1.470232  0.00  0.21  0.12 NaN NaN NaN NaN   \n",
              "1  1.09  0.17  0.28  0.009  0.019  1.426054  0.01  0.12  0.13 NaN NaN NaN NaN   \n",
              "2  0.99  0.30  0.47  0.018  0.020  1.545262  0.06  0.21  0.18 NaN NaN NaN NaN   \n",
              "3  1.08  0.22  0.36  0.024  0.018  1.436607  0.07  0.14  0.17 NaN NaN NaN NaN   \n",
              "4  1.02  0.22  0.32  0.021  0.006  1.333186  0.03  0.13  0.08 NaN NaN NaN NaN   \n",
              "\n",
              "   Fe  Sn  Ti   B   N   V  Nb  \n",
              "0 NaN NaN NaN NaN NaN NaN NaN  \n",
              "1 NaN NaN NaN NaN NaN NaN NaN  \n",
              "2 NaN NaN NaN NaN NaN NaN NaN  \n",
              "3 NaN NaN NaN NaN NaN NaN NaN  \n",
              "4 NaN NaN NaN NaN NaN NaN NaN  "
            ],
            "text/html": [
              "\n",
              "  <div id=\"df-01b5b3b4-5e87-4df0-a298-1a1c03d0ac39\">\n",
              "    <div class=\"colab-df-container\">\n",
              "      <div>\n",
              "<style scoped>\n",
              "    .dataframe tbody tr th:only-of-type {\n",
              "        vertical-align: middle;\n",
              "    }\n",
              "\n",
              "    .dataframe tbody tr th {\n",
              "        vertical-align: top;\n",
              "    }\n",
              "\n",
              "    .dataframe thead th {\n",
              "        text-align: right;\n",
              "    }\n",
              "</style>\n",
              "<table border=\"1\" class=\"dataframe\">\n",
              "  <thead>\n",
              "    <tr style=\"text-align: right;\">\n",
              "      <th></th>\n",
              "      <th>C</th>\n",
              "      <th>Si</th>\n",
              "      <th>Mn</th>\n",
              "      <th>P</th>\n",
              "      <th>S</th>\n",
              "      <th>Cr</th>\n",
              "      <th>Mo</th>\n",
              "      <th>Ni</th>\n",
              "      <th>Cu</th>\n",
              "      <th>Pb</th>\n",
              "      <th>Al</th>\n",
              "      <th>Mg</th>\n",
              "      <th>Zn</th>\n",
              "      <th>Fe</th>\n",
              "      <th>Sn</th>\n",
              "      <th>Ti</th>\n",
              "      <th>B</th>\n",
              "      <th>N</th>\n",
              "      <th>V</th>\n",
              "      <th>Nb</th>\n",
              "    </tr>\n",
              "  </thead>\n",
              "  <tbody>\n",
              "    <tr>\n",
              "      <th>0</th>\n",
              "      <td>0.98</td>\n",
              "      <td>0.19</td>\n",
              "      <td>0.42</td>\n",
              "      <td>0.020</td>\n",
              "      <td>0.018</td>\n",
              "      <td>1.470232</td>\n",
              "      <td>0.00</td>\n",
              "      <td>0.21</td>\n",
              "      <td>0.12</td>\n",
              "      <td>NaN</td>\n",
              "      <td>NaN</td>\n",
              "      <td>NaN</td>\n",
              "      <td>NaN</td>\n",
              "      <td>NaN</td>\n",
              "      <td>NaN</td>\n",
              "      <td>NaN</td>\n",
              "      <td>NaN</td>\n",
              "      <td>NaN</td>\n",
              "      <td>NaN</td>\n",
              "      <td>NaN</td>\n",
              "    </tr>\n",
              "    <tr>\n",
              "      <th>1</th>\n",
              "      <td>1.09</td>\n",
              "      <td>0.17</td>\n",
              "      <td>0.28</td>\n",
              "      <td>0.009</td>\n",
              "      <td>0.019</td>\n",
              "      <td>1.426054</td>\n",
              "      <td>0.01</td>\n",
              "      <td>0.12</td>\n",
              "      <td>0.13</td>\n",
              "      <td>NaN</td>\n",
              "      <td>NaN</td>\n",
              "      <td>NaN</td>\n",
              "      <td>NaN</td>\n",
              "      <td>NaN</td>\n",
              "      <td>NaN</td>\n",
              "      <td>NaN</td>\n",
              "      <td>NaN</td>\n",
              "      <td>NaN</td>\n",
              "      <td>NaN</td>\n",
              "      <td>NaN</td>\n",
              "    </tr>\n",
              "    <tr>\n",
              "      <th>2</th>\n",
              "      <td>0.99</td>\n",
              "      <td>0.30</td>\n",
              "      <td>0.47</td>\n",
              "      <td>0.018</td>\n",
              "      <td>0.020</td>\n",
              "      <td>1.545262</td>\n",
              "      <td>0.06</td>\n",
              "      <td>0.21</td>\n",
              "      <td>0.18</td>\n",
              "      <td>NaN</td>\n",
              "      <td>NaN</td>\n",
              "      <td>NaN</td>\n",
              "      <td>NaN</td>\n",
              "      <td>NaN</td>\n",
              "      <td>NaN</td>\n",
              "      <td>NaN</td>\n",
              "      <td>NaN</td>\n",
              "      <td>NaN</td>\n",
              "      <td>NaN</td>\n",
              "      <td>NaN</td>\n",
              "    </tr>\n",
              "    <tr>\n",
              "      <th>3</th>\n",
              "      <td>1.08</td>\n",
              "      <td>0.22</td>\n",
              "      <td>0.36</td>\n",
              "      <td>0.024</td>\n",
              "      <td>0.018</td>\n",
              "      <td>1.436607</td>\n",
              "      <td>0.07</td>\n",
              "      <td>0.14</td>\n",
              "      <td>0.17</td>\n",
              "      <td>NaN</td>\n",
              "      <td>NaN</td>\n",
              "      <td>NaN</td>\n",
              "      <td>NaN</td>\n",
              "      <td>NaN</td>\n",
              "      <td>NaN</td>\n",
              "      <td>NaN</td>\n",
              "      <td>NaN</td>\n",
              "      <td>NaN</td>\n",
              "      <td>NaN</td>\n",
              "      <td>NaN</td>\n",
              "    </tr>\n",
              "    <tr>\n",
              "      <th>4</th>\n",
              "      <td>1.02</td>\n",
              "      <td>0.22</td>\n",
              "      <td>0.32</td>\n",
              "      <td>0.021</td>\n",
              "      <td>0.006</td>\n",
              "      <td>1.333186</td>\n",
              "      <td>0.03</td>\n",
              "      <td>0.13</td>\n",
              "      <td>0.08</td>\n",
              "      <td>NaN</td>\n",
              "      <td>NaN</td>\n",
              "      <td>NaN</td>\n",
              "      <td>NaN</td>\n",
              "      <td>NaN</td>\n",
              "      <td>NaN</td>\n",
              "      <td>NaN</td>\n",
              "      <td>NaN</td>\n",
              "      <td>NaN</td>\n",
              "      <td>NaN</td>\n",
              "      <td>NaN</td>\n",
              "    </tr>\n",
              "  </tbody>\n",
              "</table>\n",
              "</div>\n",
              "      <button class=\"colab-df-convert\" onclick=\"convertToInteractive('df-01b5b3b4-5e87-4df0-a298-1a1c03d0ac39')\"\n",
              "              title=\"Convert this dataframe to an interactive table.\"\n",
              "              style=\"display:none;\">\n",
              "        \n",
              "  <svg xmlns=\"http://www.w3.org/2000/svg\" height=\"24px\"viewBox=\"0 0 24 24\"\n",
              "       width=\"24px\">\n",
              "    <path d=\"M0 0h24v24H0V0z\" fill=\"none\"/>\n",
              "    <path d=\"M18.56 5.44l.94 2.06.94-2.06 2.06-.94-2.06-.94-.94-2.06-.94 2.06-2.06.94zm-11 1L8.5 8.5l.94-2.06 2.06-.94-2.06-.94L8.5 2.5l-.94 2.06-2.06.94zm10 10l.94 2.06.94-2.06 2.06-.94-2.06-.94-.94-2.06-.94 2.06-2.06.94z\"/><path d=\"M17.41 7.96l-1.37-1.37c-.4-.4-.92-.59-1.43-.59-.52 0-1.04.2-1.43.59L10.3 9.45l-7.72 7.72c-.78.78-.78 2.05 0 2.83L4 21.41c.39.39.9.59 1.41.59.51 0 1.02-.2 1.41-.59l7.78-7.78 2.81-2.81c.8-.78.8-2.07 0-2.86zM5.41 20L4 18.59l7.72-7.72 1.47 1.35L5.41 20z\"/>\n",
              "  </svg>\n",
              "      </button>\n",
              "      \n",
              "  <style>\n",
              "    .colab-df-container {\n",
              "      display:flex;\n",
              "      flex-wrap:wrap;\n",
              "      gap: 12px;\n",
              "    }\n",
              "\n",
              "    .colab-df-convert {\n",
              "      background-color: #E8F0FE;\n",
              "      border: none;\n",
              "      border-radius: 50%;\n",
              "      cursor: pointer;\n",
              "      display: none;\n",
              "      fill: #1967D2;\n",
              "      height: 32px;\n",
              "      padding: 0 0 0 0;\n",
              "      width: 32px;\n",
              "    }\n",
              "\n",
              "    .colab-df-convert:hover {\n",
              "      background-color: #E2EBFA;\n",
              "      box-shadow: 0px 1px 2px rgba(60, 64, 67, 0.3), 0px 1px 3px 1px rgba(60, 64, 67, 0.15);\n",
              "      fill: #174EA6;\n",
              "    }\n",
              "\n",
              "    [theme=dark] .colab-df-convert {\n",
              "      background-color: #3B4455;\n",
              "      fill: #D2E3FC;\n",
              "    }\n",
              "\n",
              "    [theme=dark] .colab-df-convert:hover {\n",
              "      background-color: #434B5C;\n",
              "      box-shadow: 0px 1px 3px 1px rgba(0, 0, 0, 0.15);\n",
              "      filter: drop-shadow(0px 1px 2px rgba(0, 0, 0, 0.3));\n",
              "      fill: #FFFFFF;\n",
              "    }\n",
              "  </style>\n",
              "\n",
              "      <script>\n",
              "        const buttonEl =\n",
              "          document.querySelector('#df-01b5b3b4-5e87-4df0-a298-1a1c03d0ac39 button.colab-df-convert');\n",
              "        buttonEl.style.display =\n",
              "          google.colab.kernel.accessAllowed ? 'block' : 'none';\n",
              "\n",
              "        async function convertToInteractive(key) {\n",
              "          const element = document.querySelector('#df-01b5b3b4-5e87-4df0-a298-1a1c03d0ac39');\n",
              "          const dataTable =\n",
              "            await google.colab.kernel.invokeFunction('convertToInteractive',\n",
              "                                                     [key], {});\n",
              "          if (!dataTable) return;\n",
              "\n",
              "          const docLinkHtml = 'Like what you see? Visit the ' +\n",
              "            '<a target=\"_blank\" href=https://colab.research.google.com/notebooks/data_table.ipynb>data table notebook</a>'\n",
              "            + ' to learn more about interactive tables.';\n",
              "          element.innerHTML = '';\n",
              "          dataTable['output_type'] = 'display_data';\n",
              "          await google.colab.output.renderOutput(dataTable, element);\n",
              "          const docLink = document.createElement('div');\n",
              "          docLink.innerHTML = docLinkHtml;\n",
              "          element.appendChild(docLink);\n",
              "        }\n",
              "      </script>\n",
              "    </div>\n",
              "  </div>\n",
              "  "
            ]
          },
          "metadata": {},
          "execution_count": 25
        }
      ]
    },
    {
      "cell_type": "code",
      "source": [
        "y.head()"
      ],
      "metadata": {
        "colab": {
          "base_uri": "https://localhost:8080/"
        },
        "id": "o4AUtL6eZn0O",
        "outputId": "1890497e-d5f1-4d9b-faeb-eb92ed7b3bf7"
      },
      "execution_count": null,
      "outputs": [
        {
          "output_type": "execute_result",
          "data": {
            "text/plain": [
              "0    SUJ 2\n",
              "1    SUJ 2\n",
              "2    SUJ 2\n",
              "3    SUJ 2\n",
              "4    SUJ 2\n",
              "Name: Steel Grade, dtype: object"
            ]
          },
          "metadata": {},
          "execution_count": 26
        }
      ]
    },
    {
      "cell_type": "code",
      "source": [
        "missing_values=pd.DataFrame((x.isnull().sum()/len(steel_df['Steel Grade']))*100)                       "
      ],
      "metadata": {
        "id": "RotJNzW9NIWm"
      },
      "execution_count": null,
      "outputs": []
    },
    {
      "cell_type": "code",
      "source": [
        "missing_values.columns=['%of Missing Values']"
      ],
      "metadata": {
        "id": "XUq7NxRjzOZM"
      },
      "execution_count": null,
      "outputs": []
    },
    {
      "cell_type": "markdown",
      "source": [
        "**Top 5 elements with missing values**"
      ],
      "metadata": {
        "id": "UKL30B8uXxo1"
      }
    },
    {
      "cell_type": "code",
      "source": [
        "missing_values.sort_values('%of Missing Values',ascending=False).head(5)"
      ],
      "metadata": {
        "colab": {
          "base_uri": "https://localhost:8080/",
          "height": 206
        },
        "id": "Uv0EKYJ4z3qp",
        "outputId": "0a70213a-862f-43ff-9f56-e42f603844da"
      },
      "execution_count": null,
      "outputs": [
        {
          "output_type": "execute_result",
          "data": {
            "text/plain": [
              "    %of Missing Values\n",
              "N            97.014925\n",
              "B            97.014925\n",
              "Sn           94.029851\n",
              "Pb           91.044776\n",
              "Fe           91.044776"
            ],
            "text/html": [
              "\n",
              "  <div id=\"df-8b4d3434-758f-4789-a03a-fe1804369d4a\">\n",
              "    <div class=\"colab-df-container\">\n",
              "      <div>\n",
              "<style scoped>\n",
              "    .dataframe tbody tr th:only-of-type {\n",
              "        vertical-align: middle;\n",
              "    }\n",
              "\n",
              "    .dataframe tbody tr th {\n",
              "        vertical-align: top;\n",
              "    }\n",
              "\n",
              "    .dataframe thead th {\n",
              "        text-align: right;\n",
              "    }\n",
              "</style>\n",
              "<table border=\"1\" class=\"dataframe\">\n",
              "  <thead>\n",
              "    <tr style=\"text-align: right;\">\n",
              "      <th></th>\n",
              "      <th>%of Missing Values</th>\n",
              "    </tr>\n",
              "  </thead>\n",
              "  <tbody>\n",
              "    <tr>\n",
              "      <th>N</th>\n",
              "      <td>97.014925</td>\n",
              "    </tr>\n",
              "    <tr>\n",
              "      <th>B</th>\n",
              "      <td>97.014925</td>\n",
              "    </tr>\n",
              "    <tr>\n",
              "      <th>Sn</th>\n",
              "      <td>94.029851</td>\n",
              "    </tr>\n",
              "    <tr>\n",
              "      <th>Pb</th>\n",
              "      <td>91.044776</td>\n",
              "    </tr>\n",
              "    <tr>\n",
              "      <th>Fe</th>\n",
              "      <td>91.044776</td>\n",
              "    </tr>\n",
              "  </tbody>\n",
              "</table>\n",
              "</div>\n",
              "      <button class=\"colab-df-convert\" onclick=\"convertToInteractive('df-8b4d3434-758f-4789-a03a-fe1804369d4a')\"\n",
              "              title=\"Convert this dataframe to an interactive table.\"\n",
              "              style=\"display:none;\">\n",
              "        \n",
              "  <svg xmlns=\"http://www.w3.org/2000/svg\" height=\"24px\"viewBox=\"0 0 24 24\"\n",
              "       width=\"24px\">\n",
              "    <path d=\"M0 0h24v24H0V0z\" fill=\"none\"/>\n",
              "    <path d=\"M18.56 5.44l.94 2.06.94-2.06 2.06-.94-2.06-.94-.94-2.06-.94 2.06-2.06.94zm-11 1L8.5 8.5l.94-2.06 2.06-.94-2.06-.94L8.5 2.5l-.94 2.06-2.06.94zm10 10l.94 2.06.94-2.06 2.06-.94-2.06-.94-.94-2.06-.94 2.06-2.06.94z\"/><path d=\"M17.41 7.96l-1.37-1.37c-.4-.4-.92-.59-1.43-.59-.52 0-1.04.2-1.43.59L10.3 9.45l-7.72 7.72c-.78.78-.78 2.05 0 2.83L4 21.41c.39.39.9.59 1.41.59.51 0 1.02-.2 1.41-.59l7.78-7.78 2.81-2.81c.8-.78.8-2.07 0-2.86zM5.41 20L4 18.59l7.72-7.72 1.47 1.35L5.41 20z\"/>\n",
              "  </svg>\n",
              "      </button>\n",
              "      \n",
              "  <style>\n",
              "    .colab-df-container {\n",
              "      display:flex;\n",
              "      flex-wrap:wrap;\n",
              "      gap: 12px;\n",
              "    }\n",
              "\n",
              "    .colab-df-convert {\n",
              "      background-color: #E8F0FE;\n",
              "      border: none;\n",
              "      border-radius: 50%;\n",
              "      cursor: pointer;\n",
              "      display: none;\n",
              "      fill: #1967D2;\n",
              "      height: 32px;\n",
              "      padding: 0 0 0 0;\n",
              "      width: 32px;\n",
              "    }\n",
              "\n",
              "    .colab-df-convert:hover {\n",
              "      background-color: #E2EBFA;\n",
              "      box-shadow: 0px 1px 2px rgba(60, 64, 67, 0.3), 0px 1px 3px 1px rgba(60, 64, 67, 0.15);\n",
              "      fill: #174EA6;\n",
              "    }\n",
              "\n",
              "    [theme=dark] .colab-df-convert {\n",
              "      background-color: #3B4455;\n",
              "      fill: #D2E3FC;\n",
              "    }\n",
              "\n",
              "    [theme=dark] .colab-df-convert:hover {\n",
              "      background-color: #434B5C;\n",
              "      box-shadow: 0px 1px 3px 1px rgba(0, 0, 0, 0.15);\n",
              "      filter: drop-shadow(0px 1px 2px rgba(0, 0, 0, 0.3));\n",
              "      fill: #FFFFFF;\n",
              "    }\n",
              "  </style>\n",
              "\n",
              "      <script>\n",
              "        const buttonEl =\n",
              "          document.querySelector('#df-8b4d3434-758f-4789-a03a-fe1804369d4a button.colab-df-convert');\n",
              "        buttonEl.style.display =\n",
              "          google.colab.kernel.accessAllowed ? 'block' : 'none';\n",
              "\n",
              "        async function convertToInteractive(key) {\n",
              "          const element = document.querySelector('#df-8b4d3434-758f-4789-a03a-fe1804369d4a');\n",
              "          const dataTable =\n",
              "            await google.colab.kernel.invokeFunction('convertToInteractive',\n",
              "                                                     [key], {});\n",
              "          if (!dataTable) return;\n",
              "\n",
              "          const docLinkHtml = 'Like what you see? Visit the ' +\n",
              "            '<a target=\"_blank\" href=https://colab.research.google.com/notebooks/data_table.ipynb>data table notebook</a>'\n",
              "            + ' to learn more about interactive tables.';\n",
              "          element.innerHTML = '';\n",
              "          dataTable['output_type'] = 'display_data';\n",
              "          await google.colab.output.renderOutput(dataTable, element);\n",
              "          const docLink = document.createElement('div');\n",
              "          docLink.innerHTML = docLinkHtml;\n",
              "          element.appendChild(docLink);\n",
              "        }\n",
              "      </script>\n",
              "    </div>\n",
              "  </div>\n",
              "  "
            ]
          },
          "metadata": {},
          "execution_count": 29
        }
      ]
    },
    {
      "cell_type": "code",
      "source": [
        "plt.plot(x.isnull().sum()/(len(steel_df))*100)\n",
        "plt.xlabel('Element present in the steel grade composition')\n",
        "plt.ylabel('No.of missing values')\n",
        "plt.title('Missing Values present in the dataset')"
      ],
      "metadata": {
        "colab": {
          "base_uri": "https://localhost:8080/",
          "height": 314
        },
        "id": "cdm_a08lNpCY",
        "outputId": "c3464508-d319-4272-bfbf-b032b4434a6c"
      },
      "execution_count": null,
      "outputs": [
        {
          "output_type": "execute_result",
          "data": {
            "text/plain": [
              "Text(0.5, 1.0, 'Missing Values present in the dataset')"
            ]
          },
          "metadata": {},
          "execution_count": 30
        },
        {
          "output_type": "display_data",
          "data": {
            "text/plain": [
              "<Figure size 432x288 with 1 Axes>"
            ],
            "image/png": "[encoded data removed]"
          },
          "metadata": {
            "needs_background": "light"
          }
        }
      ]
    },
    {
      "cell_type": "markdown",
      "source": [
        "####**Comments**\n",
        "\n",
        "#####**(i) Nitrogen (N) & Boron (B):** Nitrogen is trapped gas inside Molten steel. It is generally removed during Oxygen blowing process in Blast Furnace and Converter Furnace. Any Nitrogen left in the is removed during Vaccum Degassing.  \n",
        "\n",
        "Nitrogen is generally evaluated for Boron steel only, as Boron is added in the steel, Boron reacts with Nitrogen and forms Boron nitride, which makes the material brittle. To avoid this Titanium is added to Boron steel composition to fix Nitrogen and activate Boron.\n",
        "\n",
        "Boron and Nitrogen are only mentioned for Boron steels and not for any other steel grades, so, their missing values are same for both elements.\n",
        "\n",
        "In existing dataset, there is only one alloy steel grade it is 22MnB5, in which Boron is added and Nitrogen is evaluated\n",
        "\n",
        "\n",
        "####**(ii) Lead (Pb) and Ferrous (Fe):**\n",
        "Lead is used in Aluminum Die cast materials for better machinability.\n",
        "As Lead free Aluminum is also used, keeping in mind the environmental concerns with Lead. \n",
        "Ferrous is also used in minor amounts in Aluminum Die cast grades\n"
      ],
      "metadata": {
        "id": "EDv2EiFu1PhJ"
      }
    },
    {
      "cell_type": "code",
      "source": [
        "steel_df['Sn'].describe()"
      ],
      "metadata": {
        "colab": {
          "base_uri": "https://localhost:8080/"
        },
        "id": "tDR-DIAgXt7M",
        "outputId": "ccc7ed09-7dac-48b7-d9a2-1efc70fcff77"
      },
      "execution_count": null,
      "outputs": [
        {
          "output_type": "execute_result",
          "data": {
            "text/plain": [
              "count    120.000000\n",
              "mean       0.095167\n",
              "std        0.059916\n",
              "min        0.000000\n",
              "25%        0.040000\n",
              "50%        0.100000\n",
              "75%        0.140000\n",
              "max        0.200000\n",
              "Name: Sn, dtype: float64"
            ]
          },
          "metadata": {},
          "execution_count": 31
        }
      ]
    },
    {
      "cell_type": "markdown",
      "source": [
        "####**Replacing missing values**\n",
        "\n",
        "Generally missing values are replaced by either Mean, Median or Mode values.\n",
        "But, in this case, replacing with either Mean, Median or Mode will change the grade. \n",
        "\n",
        "NaN values cannot be dropped because, it will nullify the chances of predicting steel grades.\n",
        "\n",
        "#####**Example:** Boron is available only for Boron steel, if we drop Boron for having majority of NaN values it will not help in predicting Boron steel grades.\n",
        "\n",
        "#####**Conclusion**\n",
        "\n",
        "NaN values will be replaced by 0.0"
      ],
      "metadata": {
        "id": "OdRbW4cC5ggn"
      }
    },
    {
      "cell_type": "code",
      "source": [
        "x_mod=x.fillna(0.0)"
      ],
      "metadata": {
        "id": "5ApAxrsj5ef-"
      },
      "execution_count": null,
      "outputs": []
    },
    {
      "cell_type": "code",
      "source": [
        "x_mod.isnull().sum()"
      ],
      "metadata": {
        "colab": {
          "base_uri": "https://localhost:8080/"
        },
        "id": "0Utzos-_aaiY",
        "outputId": "0f83bb13-c1c0-4496-bb05-ed7675de5e63"
      },
      "execution_count": null,
      "outputs": [
        {
          "output_type": "execute_result",
          "data": {
            "text/plain": [
              "C     0\n",
              "Si    0\n",
              "Mn    0\n",
              "P     0\n",
              "S     0\n",
              "Cr    0\n",
              "Mo    0\n",
              "Ni    0\n",
              "Cu    0\n",
              "Pb    0\n",
              "Al    0\n",
              "Mg    0\n",
              "Zn    0\n",
              "Fe    0\n",
              "Sn    0\n",
              "Ti    0\n",
              "B     0\n",
              "N     0\n",
              "V     0\n",
              "Nb    0\n",
              "dtype: int64"
            ]
          },
          "metadata": {},
          "execution_count": 33
        }
      ]
    },
    {
      "cell_type": "markdown",
      "source": [
        "**Checking for Mutli Colliniearity**"
      ],
      "metadata": {
        "id": "YSlkc_C1boz6"
      }
    },
    {
      "cell_type": "code",
      "source": [
        "x_corr= x_mod.corr()\n",
        "plt.figure(figsize=(16,10))\n",
        "ax=sn.heatmap(x_corr,annot=True)\n",
        "ax.xaxis.tick_top()\n",
        "plt.show()"
      ],
      "metadata": {
        "colab": {
          "base_uri": "https://localhost:8080/",
          "height": 567
        },
        "id": "XPTrekA3boFY",
        "outputId": "0352c1b7-af87-4bbc-8077-ae5440f5e845"
      },
      "execution_count": null,
      "outputs": [
        {
          "output_type": "display_data",
          "data": {
            "text/plain": [
              "<Figure size 1152x720 with 2 Axes>"
            ],
            "image/png": "[encoded data removed]"
          },
          "metadata": {
            "needs_background": "light"
          }
        }
      ]
    },
    {
      "cell_type": "markdown",
      "source": [
        "**Comments:**\n",
        "- Carbon is very less correlated with all other elements.\n",
        "\n",
        "- Silicon is highly correlated with Zinc, Iron, Tin (Sn) and Titanium.\n",
        "\n",
        "- Sulphur is highly correlated with Lead (Pb)\n",
        "\n",
        "- Chromium is highly correlated with Nickel. As Nickel and Chromium are major and important consittuents of Stainless Steel.\n",
        "\n",
        "-  Boron is highly correlated with Nitrogen. Because,Nitrogen is highly reactive with Boron.\n",
        "Nitrogen is picken by Boron in steel from atmosphere.Boron is added to imporve Hardenability of steel. Titanium is added to fix Nitrogen and activate Boron, thus imporve the hardenability of steel."
      ],
      "metadata": {
        "id": "HXLg75AHfdfh"
      }
    },
    {
      "cell_type": "markdown",
      "source": [
        "###**Conclusion**\n",
        "NaN values are replaced by 0.0. Confirmed that there are no more NaN values in the dataset. This dataset will be used for further predictive analysis by Machine Learning Models."
      ],
      "metadata": {
        "id": "jPxjx-7yBp9F"
      }
    },
    {
      "cell_type": "code",
      "source": [
        "x_mod.to_csv('X.csv')"
      ],
      "metadata": {
        "id": "Vxl1Q7-yRXRt"
      },
      "execution_count": null,
      "outputs": []
    },
    {
      "cell_type": "markdown",
      "source": [
        "**Comments**\n",
        "\n",
        "For further steel grade prediction we can use the X.csv as it is free from NaN values.\n",
        "\n",
        "One disadvantage of X.csv is it many zeroes."
      ],
      "metadata": {
        "id": "1uUZ16QtaFfk"
      }
    }
  ]
}